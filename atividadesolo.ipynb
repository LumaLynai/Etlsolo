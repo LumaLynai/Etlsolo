{
  "nbformat": 4,
  "nbformat_minor": 0,
  "metadata": {
    "colab": {
      "name": "atividadesolo.ipynb",
      "provenance": [],
      "collapsed_sections": [
        "JmpRiC-Jizn0",
        "rwary-JTHNGv",
        "c_1jfEl2JWGK",
        "2BUPsHzRKFLs",
        "-y-JyWTakT4A",
        "22X6FcN5ewnj",
        "itgCSA2DcgYk",
        "LDXecwXMagIF",
        "-8zacktGuIh8",
        "AqgMX2KhODZJ",
        "PawVGzUKc9RD",
        "5jvZ78QzxX8z",
        "DNjbMNOB3LBv",
        "Rpvqbfdb6J60",
        "GnrGQ3Q_6WI9",
        "yEmBblYzG6o2",
        "w4OfvK1V-8q-"
      ],
      "mount_file_id": "1YxCI91CeUmrYTmOzPyPt0U2LbszZQj5w",
      "authorship_tag": "ABX9TyOq2L9giG75B0CfWo50WNtu",
      "include_colab_link": true
    },
    "kernelspec": {
      "name": "python3",
      "display_name": "Python 3"
    },
    "language_info": {
      "name": "python"
    }
  },
  "cells": [
    {
      "cell_type": "markdown",
      "metadata": {
        "id": "view-in-github",
        "colab_type": "text"
      },
      "source": [
        "<a href=\"https://colab.research.google.com/github/LumaLynai/Etlsolo/blob/main/atividadesolo.ipynb\" target=\"_parent\"><img src=\"https://colab.research.google.com/assets/colab-badge.svg\" alt=\"Open In Colab\"/></a>"
      ]
    },
    {
      "cell_type": "code",
      "source": [
        "from google.colab import drive\n",
        "drive.mount('/content/drive')"
      ],
      "metadata": {
        "colab": {
          "base_uri": "https://localhost:8080/"
        },
        "id": "P31s3M6vrcDc",
        "outputId": "cb1b18fd-e1cc-4d8b-d6d6-8fcb9a256a07"
      },
      "execution_count": null,
      "outputs": [
        {
          "output_type": "stream",
          "name": "stdout",
          "text": [
            "Drive already mounted at /content/drive; to attempt to forcibly remount, call drive.mount(\"/content/drive\", force_remount=True).\n"
          ]
        }
      ]
    },
    {
      "cell_type": "code",
      "source": [
        "!pip install pandas\n",
        "!pip install gcsfs\n"
      ],
      "metadata": {
        "id": "gK5MoAjOptBF"
      },
      "execution_count": null,
      "outputs": []
    },
    {
      "cell_type": "code",
      "source": [
        "!pip install pyspark"
      ],
      "metadata": {
        "id": "krKcOry25ddQ"
      },
      "execution_count": null,
      "outputs": []
    },
    {
      "cell_type": "code",
      "source": [
        "!pip install dnspython"
      ],
      "metadata": {
        "id": "ekfYeU7G-vkE"
      },
      "execution_count": null,
      "outputs": []
    },
    {
      "cell_type": "code",
      "source": [
        "!pip install pymongo[srv]"
      ],
      "metadata": {
        "id": "04T3MlkyBm7-"
      },
      "execution_count": null,
      "outputs": []
    },
    {
      "cell_type": "code",
      "source": [
        "import pandas as pd\n",
        "import psycopg2\n",
        "import requests\n",
        "import pymongo\n",
        "import gcsfs\n",
        "import os \n",
        "import csv"
      ],
      "metadata": {
        "id": "LECR3Gm7ptAI"
      },
      "execution_count": null,
      "outputs": []
    },
    {
      "cell_type": "code",
      "source": [
        "from pymongo import MongoClient\n",
        "from google.cloud import storage"
      ],
      "metadata": {
        "id": "5IAvHyzi_glu"
      },
      "execution_count": null,
      "outputs": []
    },
    {
      "cell_type": "code",
      "source": [
        "from pyspark.sql import SparkSession\n",
        "from pyspark.sql.window import *\n",
        "from pyspark.sql.types import *\n",
        "from pyspark import SparkConf\n",
        "import pyspark.sql.functions as F \n",
        "import pyspark.sql.window as w"
      ],
      "metadata": {
        "id": "MgVbwMoO540e"
      },
      "execution_count": null,
      "outputs": []
    },
    {
      "cell_type": "markdown",
      "source": [
        "# Gcp"
      ],
      "metadata": {
        "id": "0HqnfeM_bfX3"
      }
    },
    {
      "cell_type": "code",
      "source": [
        "serviceAccount = r'***'\n",
        "\n",
        "os.environ['GOOGLE_APPLICATION_CREDENTIALS'] = serviceAccount"
      ],
      "metadata": {
        "id": "iRH6MT0pbeNJ"
      },
      "execution_count": null,
      "outputs": []
    },
    {
      "cell_type": "code",
      "source": [
        "client = storage.Client()\n",
        "bucket= client.get_bucket('dadosolo')\n",
        "bucket.blob('marketing_campaign.csv')\n",
        "path = 'gs://dadosolo/dadosbrutos/marketing_campaign.csv'\n",
        "df_cadastro=pd.read_csv(path,sep=\";\")"
      ],
      "metadata": {
        "id": "r0OF9fJobeLo"
      },
      "execution_count": null,
      "outputs": []
    },
    {
      "cell_type": "markdown",
      "source": [
        "#  **Pandas**\n",
        "\n",
        "\n",
        "\n",
        "\n",
        "\n",
        "\n",
        "\n",
        "\n",
        "\n"
      ],
      "metadata": {
        "id": "2HUhj8Me1iI8"
      }
    },
    {
      "cell_type": "markdown",
      "source": [
        "## Conectando Mondodb Atlas "
      ],
      "metadata": {
        "id": "Qflk4eGTMLI0"
      }
    },
    {
      "cell_type": "code",
      "source": [
        "conect =('***')\n"
      ],
      "metadata": {
        "id": "FYuJ3G1zAENU"
      },
      "execution_count": null,
      "outputs": []
    },
    {
      "cell_type": "code",
      "source": [
        "cliente= MongoClient(conect)"
      ],
      "metadata": {
        "id": "paUrp05SBdrT"
      },
      "execution_count": null,
      "outputs": []
    },
    {
      "cell_type": "code",
      "source": [
        "db=cliente['cadastro']\n",
        "inseri=db.create_collection('colecaocadastro')"
      ],
      "metadata": {
        "id": "76cyIva3AD-l"
      },
      "execution_count": null,
      "outputs": []
    },
    {
      "cell_type": "code",
      "source": [
        "df_dict=df_cadastro.to_dict('records')\n",
        "inseri.insert_many(df_dict)"
      ],
      "metadata": {
        "id": "z4mlfgX1AD19",
        "colab": {
          "base_uri": "https://localhost:8080/"
        },
        "outputId": "3c66090e-75de-47ce-f468-7dd02544c929"
      },
      "execution_count": null,
      "outputs": [
        {
          "output_type": "execute_result",
          "data": {
            "text/plain": [
              "<pymongo.results.InsertManyResult at 0x7f84e7275310>"
            ]
          },
          "metadata": {},
          "execution_count": 95
        }
      ]
    },
    {
      "cell_type": "markdown",
      "source": [
        "##conectando para extrair \n",
        "\n"
      ],
      "metadata": {
        "id": "r17iG8MEDKtO"
      }
    },
    {
      "cell_type": "code",
      "source": [
        "cursor = db['colecaocadastro'].find()"
      ],
      "metadata": {
        "id": "8xIDLIVHDWX1"
      },
      "execution_count": null,
      "outputs": []
    },
    {
      "cell_type": "code",
      "source": [
        "df_extrai = pd.DataFrame(cursor)"
      ],
      "metadata": {
        "id": "SvqeIR58C6KL"
      },
      "execution_count": null,
      "outputs": []
    },
    {
      "cell_type": "markdown",
      "source": [
        "##criando uma copia "
      ],
      "metadata": {
        "id": "MhvqTSG8D5oR"
      }
    },
    {
      "cell_type": "code",
      "source": [
        "df = df_extrai.copy()"
      ],
      "metadata": {
        "id": "l2Zk8wwwDN_I"
      },
      "execution_count": null,
      "outputs": []
    },
    {
      "cell_type": "markdown",
      "source": [
        "#Tratamento de dados "
      ],
      "metadata": {
        "id": "0NVj-x_cFtro"
      }
    },
    {
      "cell_type": "code",
      "source": [
        "df.info()"
      ],
      "metadata": {
        "id": "wpYMiBdMKa9n"
      },
      "execution_count": null,
      "outputs": []
    },
    {
      "cell_type": "markdown",
      "source": [
        "##Apenas para trabalhar no csv\n"
      ],
      "metadata": {
        "id": "JmpRiC-Jizn0"
      }
    },
    {
      "cell_type": "code",
      "source": [
        "df = pd.read_csv ('/content/drive/MyDrive/ColabNotebooks/marketing_campaign.csv',sep=\";\")"
      ],
      "metadata": {
        "id": "kzy8LOnuizNh"
      },
      "execution_count": null,
      "outputs": []
    },
    {
      "cell_type": "markdown",
      "source": [
        "##Forçando o DataFrame mostrar todas as colunas "
      ],
      "metadata": {
        "id": "QGR91c0WvrNs"
      }
    },
    {
      "cell_type": "code",
      "source": [
        "pd.set_option('display.max_columns',32)"
      ],
      "metadata": {
        "id": "YVuGmJTzF7Q5"
      },
      "execution_count": null,
      "outputs": []
    },
    {
      "cell_type": "markdown",
      "source": [
        "# **Rename**\n",
        "Tradução de colunas"
      ],
      "metadata": {
        "id": "LHOib6YbJ_wa"
      }
    },
    {
      "cell_type": "markdown",
      "source": [
        "##Colunas renomeadas 2 ao 9\n",
        "\n",
        "\n"
      ],
      "metadata": {
        "id": "VM0BiXjOLhvh"
      }
    },
    {
      "cell_type": "markdown",
      "source": [
        "2.Year_Birth == Dt_nasci |\n",
        "3.Education\t== Escolaridade |\n",
        "4.Marital_Status == Est_civil |\n",
        "5.Income == Renda_famil |\n",
        "6.Kidhome == Qtd_crianCasa |\n",
        "7.Teenhome == Qtd_adolcasa |\n",
        "8.Dt_Customer\t== Dt_cadastro | \n",
        "9.Recency == IntervaloUltimaCompra |\n",
        "\n",
        "\n",
        "\n"
      ],
      "metadata": {
        "id": "N0SxSZVgLhuG"
      }
    },
    {
      "cell_type": "code",
      "source": [
        "df.rename(columns = {'Year_Birth':'Ano_nasci','Education':'Escolaridade','Marital_Status':'Est_civil','Income':'Renda_famil','Kidhome':'CriancaCasa','Teenhome':'AdolecenteCasa','Dt_Customer':'Dt_cadastro','Recency':'IntervaloUltimaCompra '},inplace=True)"
      ],
      "metadata": {
        "id": "KAS6X9SUGJ_V"
      },
      "execution_count": null,
      "outputs": []
    },
    {
      "cell_type": "markdown",
      "source": [
        "##Colunas renomeadas 10 ao 15\n",
        "\n",
        "\n",
        "\n"
      ],
      "metadata": {
        "id": "bAJ-q80iGgUU"
      }
    },
    {
      "cell_type": "markdown",
      "source": [
        "10.MntWines \t== Gasto_vinho |\n",
        "11.MntFruits\t == Gasto_fruta |\n",
        "12.MntMeatProducts\t== Gasto_carne | \n",
        "13.MntFishProducts\t== Gasto_peixe |\n",
        "14.MntSweetProducts == Gasto_doce |\n",
        "15.MntGoldProds == Gasto_ouro |"
      ],
      "metadata": {
        "id": "eVI89RpLOhK2"
      }
    },
    {
      "cell_type": "code",
      "source": [
        "df.rename(columns={'MntWines':'Gasto_vinho','MntFruits':'Gasto_fruta','MntMeatProducts':'Gasto_carne','MntFishProducts':'Gasto_peixe' ,'MntSweetProducts':'Gasto_doce','MntGoldProds':'Gasto_ouro'},inplace=True)"
      ],
      "metadata": {
        "id": "xKO8ajjFHIx_"
      },
      "execution_count": null,
      "outputs": []
    },
    {
      "cell_type": "markdown",
      "source": [
        "##Colunas renomeadas 16 ao 20\n"
      ],
      "metadata": {
        "id": "rwary-JTHNGv"
      }
    },
    {
      "cell_type": "markdown",
      "source": [
        "16.NumDealsPurchases == CompraComDesconto |\n",
        "17.NumWebPurchases == CompraSite |\n",
        "18.NumCatalogPurchases == CompraCatalogo |\n",
        "19.NumStorePurchases == CompraLoja |\n",
        "20.NumWebVisitsMonth == VisitaSite\n"
      ],
      "metadata": {
        "id": "hSQqwNn6pVC-"
      }
    },
    {
      "cell_type": "code",
      "source": [
        "df.rename(columns={'NumDealsPurchases':'CompraComDesconto','NumWebPurchases':'CompraSite','NumCatalogPurchases':'CompraCatalogo','NumStorePurchases':'CompraLoja','NumWebVisitsMonth':'VisitaSite'},inplace=True)"
      ],
      "metadata": {
        "id": "9zwS_3tfJVZK"
      },
      "execution_count": null,
      "outputs": []
    },
    {
      "cell_type": "markdown",
      "source": [
        "##Colunas renomeadas 21 ao 25"
      ],
      "metadata": {
        "id": "c_1jfEl2JWGK"
      }
    },
    {
      "cell_type": "markdown",
      "source": [
        "21.AcceptedCmp3 == Oferta3aCompra |\n",
        "22.AcceptedCmp4 == Oferta4aCompra  |\n",
        "23.AcceptedCmp5 == Oferta5aCompra |\n",
        "24.AcceptedCmp1 == Oferta1aCompra |\n",
        "25.AcceptedCmp2 == Oferta2aCompra "
      ],
      "metadata": {
        "id": "nxaLI8LTO2HX"
      }
    },
    {
      "cell_type": "code",
      "source": [
        "df.rename(columns={'AcceptedCmp3':'Oferta3aCompra','AcceptedCmp4':'Oferta4aCompra','AcceptedCmp5':'Oferta5aCompra','AcceptedCmp1':'Oferta1aCompra','AcceptedCmp2':'Oferta2aCompra'},inplace=True)"
      ],
      "metadata": {
        "id": "IaT6YxN8cyz2"
      },
      "execution_count": null,
      "outputs": []
    },
    {
      "cell_type": "markdown",
      "source": [
        "## Colunas renomeadas 26 ao 29"
      ],
      "metadata": {
        "id": "Nuzt5z0QMvZ6"
      }
    },
    {
      "cell_type": "markdown",
      "source": [
        "26.Complain == Reclamacao |\n",
        "27.Z_CostContact == CustoContato |\n",
        "28.Z_Revenue\t== Receita  |\n",
        "29.Response == OfertaUltimaCompra"
      ],
      "metadata": {
        "id": "OfhsMt5LO-ki"
      }
    },
    {
      "cell_type": "code",
      "source": [
        "df.rename(columns={'Complain':'Reclamacao','Z_CostContact':'CustoContato','Z_Revenue':'Receita','Response':'OfertaUltimaCompra'},inplace=True)"
      ],
      "metadata": {
        "id": "Jm8_Obk4dl86"
      },
      "execution_count": null,
      "outputs": []
    },
    {
      "cell_type": "markdown",
      "source": [
        "# **Replace**\n",
        "Tradução de valores"
      ],
      "metadata": {
        "id": "Wbt0tw3q9Okl"
      }
    },
    {
      "cell_type": "markdown",
      "source": [
        "## Traduzindo valores das colunas "
      ],
      "metadata": {
        "id": "jvnfYk-lELS-"
      }
    },
    {
      "cell_type": "code",
      "source": [
        "df['Escolaridade'].unique()"
      ],
      "metadata": {
        "colab": {
          "base_uri": "https://localhost:8080/"
        },
        "id": "fLnW5zbYFS7n",
        "outputId": "dfd08a15-f35f-4106-86d4-e8e6b08ac32c"
      },
      "execution_count": null,
      "outputs": [
        {
          "output_type": "execute_result",
          "data": {
            "text/plain": [
              "array(['Graduation', 'PhD', 'Master', 'Basic', '2n Cycle'], dtype=object)"
            ]
          },
          "metadata": {},
          "execution_count": 85
        }
      ]
    },
    {
      "cell_type": "markdown",
      "source": [
        "### **Coluna Escolaridade**\n",
        "* Graduation== Graduado\n",
        "* Master == Mestre\n",
        "* Basic == EducacaoBasica[texto do link](https://)\n",
        "* 2n Cycle== Pos_GraduadoMestre "
      ],
      "metadata": {
        "id": "2BUPsHzRKFLs"
      }
    },
    {
      "cell_type": "code",
      "source": [
        "df['Escolaridade']=(df['Escolaridade'].replace({'Graduation':'Graduado','Master':'Mestre','Basic':'EducacaoBasica','2n Cycle':'Pos_GraduadoMestre'}))"
      ],
      "metadata": {
        "id": "6YJkaPBAsBzP"
      },
      "execution_count": null,
      "outputs": []
    },
    {
      "cell_type": "markdown",
      "source": [
        "### **Coluna Est_civil**\n",
        "\n",
        "Single == Solteiro |\n",
        "Together == União estável |\n",
        "Married == Casado |\n",
        "Divorced == Divorciado |\n",
        "Widow == Viúvo |\n",
        "Alone == Solteiro  |\n",
        "Absurd == Solteiro  |\n",
        "YOLO  == Solteiro  |"
      ],
      "metadata": {
        "id": "-y-JyWTakT4A"
      }
    },
    {
      "cell_type": "code",
      "source": [
        "df['Est_civil']=(df['Est_civil'].replace({'Single':'Solteiro','Together':'União estável','Married':'Casado','Divorced':'Divorciado','Widow':'Viúvo','Alone':'Solteiro','Absurd':'Solteiro','YOLO':'Solteiro'}))"
      ],
      "metadata": {
        "id": "gKMK9UMdkX_w"
      },
      "execution_count": null,
      "outputs": []
    },
    {
      "cell_type": "markdown",
      "source": [
        "# **info**"
      ],
      "metadata": {
        "id": "dC-XA_JqNLpS"
      }
    },
    {
      "cell_type": "code",
      "source": [
        "df.info()"
      ],
      "metadata": {
        "id": "16kBPLlUNK_Q"
      },
      "execution_count": null,
      "outputs": []
    },
    {
      "cell_type": "markdown",
      "source": [
        "# **isnull**"
      ],
      "metadata": {
        "id": "b6p4_oGZU7Et"
      }
    },
    {
      "cell_type": "markdown",
      "source": [
        ""
      ],
      "metadata": {
        "id": "70AeViqAU7DO"
      }
    },
    {
      "cell_type": "code",
      "source": [
        "df.isnull().sum()"
      ],
      "metadata": {
        "colab": {
          "base_uri": "https://localhost:8080/"
        },
        "id": "X8SO4oMnU6h-",
        "outputId": "b2e9aae7-8592-4cd2-f67d-e7309e58fdcc"
      },
      "execution_count": null,
      "outputs": [
        {
          "output_type": "execute_result",
          "data": {
            "text/plain": [
              "ID                         0\n",
              "Ano_nasci                  0\n",
              "Escolaridade               0\n",
              "Est_civil                  0\n",
              "Renda_famil               24\n",
              "CriancaCasa                0\n",
              "AdolecenteCasa             0\n",
              "Dt_cadastro                0\n",
              "IntervaloUltimaCompra      0\n",
              "Gasto_vinho                0\n",
              "Gasto_fruta                0\n",
              "Gasto_carne                0\n",
              "Gasto_peixe                0\n",
              "Gasto_doce                 0\n",
              "Gasto_ouro                 0\n",
              "CompraComDesconto          0\n",
              "CompraSite                 0\n",
              "CompraCatalogo             0\n",
              "CompraLoja                 0\n",
              "VisitaSite                 0\n",
              "Oferta3aCompra             0\n",
              "Oferta4aCompra             0\n",
              "Oferta5aCompra             0\n",
              "Oferta1aCompra             0\n",
              "Oferta2aCompra             0\n",
              "Reclamacao                 0\n",
              "CustoContato               0\n",
              "Receita                    0\n",
              "OfertaUltimaCompra         0\n",
              "dtype: int64"
            ]
          },
          "metadata": {},
          "execution_count": 88
        }
      ]
    },
    {
      "cell_type": "markdown",
      "source": [
        "##Salvando em csv"
      ],
      "metadata": {
        "id": "LOh0fsWmtYyA"
      }
    },
    {
      "cell_type": "code",
      "source": [
        "df.to_csv(\"RenomeadoColunaValor.csv\")"
      ],
      "metadata": {
        "id": "sBov1WkBKqDG"
      },
      "execution_count": null,
      "outputs": []
    },
    {
      "cell_type": "markdown",
      "source": [
        "# **Pyspark**"
      ],
      "metadata": {
        "id": "0GXMwsCm7FGs"
      }
    },
    {
      "cell_type": "markdown",
      "source": [
        "##**Structype**"
      ],
      "metadata": {
        "id": "qvBTk11RsDh1"
      }
    },
    {
      "cell_type": "code",
      "source": [
        "esquema =(\n",
        "    StructType([\n",
        "                StructField('Ano_nasci',IntegerType(),True),\n",
        "                StructField('Escolaridade',StringType(),True),\n",
        "                StructField('Est_civil',StringType(), True),\n",
        "                StructField('Renda_famil',DoubleType(),True),\n",
        "                StructField('CriancaCasa', IntegerType() , True),\n",
        "                StructField('AdolecenteCasa', IntegerType() , True),\n",
        "                StructField('Dt_cadastro', StringType() , True),\n",
        "                StructField('IntervaloUltimaCompra', IntegerType() , True),\n",
        "                StructField('Gasto_vinho', IntegerType() , True),\n",
        "                StructField('Gasto_fruta', IntegerType() , True),\n",
        "                StructField('Gasto_carne', IntegerType() , True),\n",
        "                StructField('Gasto_peixe', IntegerType() , True),\n",
        "                StructField('Gasto_doce', IntegerType() , True),\n",
        "                StructField('Gasto_ouro', IntegerType() , True),\n",
        "                StructField('CompraComDesconto', IntegerType() , True),\n",
        "                StructField('CompraSite', IntegerType() , True),\n",
        "                StructField('CompraCatalogo', IntegerType() , True),\n",
        "                StructField('CompraLoja', IntegerType() , True),\n",
        "                StructField('VisitaSite', IntegerType() , True),\n",
        "                StructField('Oferta3aCompra', IntegerType() , True),\n",
        "                StructField('Oferta4aCompra', IntegerType() , True),\n",
        "                StructField('Oferta5aCompra', IntegerType() , True),\n",
        "                StructField('Oferta1aCompra', IntegerType() , True),\n",
        "                StructField('Oferta2aCompra', IntegerType() , True),\n",
        "                StructField('Reclamacao', IntegerType() , True),\n",
        "                StructField('CustoContato', IntegerType() , True),\n",
        "                StructField('Receita', IntegerType() , True),\n",
        "                StructField('OfertaUltimaCompra', IntegerType() , True),\n",
        "                \n",
        "    ])\n",
        ")"
      ],
      "metadata": {
        "id": "bZabQvfJCzqR"
      },
      "execution_count": null,
      "outputs": []
    },
    {
      "cell_type": "markdown",
      "source": [
        "##conexão com o SparkSession"
      ],
      "metadata": {
        "id": "EFjqQj_yCv60"
      }
    },
    {
      "cell_type": "code",
      "source": [
        "spark = (SparkSession.builder\n",
        "                      .master('local')\n",
        "                      .appName('ativSolo')\n",
        "                      .config('spark.ui.port','4050')\n",
        "                      .config('spark.jars','https://storage.googleapis.com/hadoop-lib/gcs/gcs-connector-hadoop2-latest.jar')\n",
        "                      .getOrCreate()\n",
        "                      )"
      ],
      "metadata": {
        "id": "UZrclTDfCpg8"
      },
      "execution_count": null,
      "outputs": []
    },
    {
      "cell_type": "markdown",
      "source": [
        "Abrindo o doc com pyspark"
      ],
      "metadata": {
        "id": "eev5SwAM7KhH"
      }
    },
    {
      "cell_type": "code",
      "source": [
        "df_spark=(spark.read.format('csv')\n",
        "                    .option('delimiter',',')\n",
        "                    .option('header','true')\n",
        "                    .option('inferschema','true')\n",
        "                    .load('/content/drive/MyDrive/RenomeadoColunaValor.csv',schema= esquema)\n",
        "    \n",
        ")"
      ],
      "metadata": {
        "id": "cMjCXzTHC6D6"
      },
      "execution_count": null,
      "outputs": []
    },
    {
      "cell_type": "code",
      "source": [
        "df_spark.printSchema()"
      ],
      "metadata": {
        "colab": {
          "base_uri": "https://localhost:8080/"
        },
        "id": "XbZJDzO4AHUV",
        "outputId": "8695d8b3-640c-4684-eb86-02a18f1d16f6"
      },
      "execution_count": null,
      "outputs": [
        {
          "output_type": "stream",
          "name": "stdout",
          "text": [
            "root\n",
            " |-- _c0: integer (nullable = true)\n",
            " |-- ID: integer (nullable = true)\n",
            " |-- Ano_nasci: integer (nullable = true)\n",
            " |-- Escolaridade: string (nullable = true)\n",
            " |-- Est_civil: string (nullable = true)\n",
            " |-- Renda_famil: double (nullable = true)\n",
            " |-- CriancaCasa: integer (nullable = true)\n",
            " |-- AdolecenteCasa: integer (nullable = true)\n",
            " |-- Dt_cadastro: string (nullable = true)\n",
            " |-- IntervaloUltimaCompra : integer (nullable = true)\n",
            " |-- Gasto_vinho: integer (nullable = true)\n",
            " |-- Gasto_fruta: integer (nullable = true)\n",
            " |-- Gasto_carne: integer (nullable = true)\n",
            " |-- Gasto_peixe: integer (nullable = true)\n",
            " |-- Gasto_doce: integer (nullable = true)\n",
            " |-- Gasto_ouro: integer (nullable = true)\n",
            " |-- CompraComDesconto: integer (nullable = true)\n",
            " |-- CompraSite: integer (nullable = true)\n",
            " |-- CompraCatalogo: integer (nullable = true)\n",
            " |-- CompraLoja: integer (nullable = true)\n",
            " |-- VisitaSite: integer (nullable = true)\n",
            " |-- Oferta3aCompra: integer (nullable = true)\n",
            " |-- Oferta4aCompra: integer (nullable = true)\n",
            " |-- Oferta5aCompra: integer (nullable = true)\n",
            " |-- Oferta1aCompra: integer (nullable = true)\n",
            " |-- Oferta2aCompra: integer (nullable = true)\n",
            " |-- Reclamacao: integer (nullable = true)\n",
            " |-- CustoContato: integer (nullable = true)\n",
            " |-- Receita: integer (nullable = true)\n",
            " |-- OfertaUltimaCompra: integer (nullable = true)\n",
            "\n"
          ]
        }
      ]
    },
    {
      "cell_type": "code",
      "source": [
        "df_spark.show()"
      ],
      "metadata": {
        "colab": {
          "base_uri": "https://localhost:8080/"
        },
        "id": "buX2XmDfhxQ1",
        "outputId": "05d70f87-9c4b-4cab-cced-2223fccbc58c"
      },
      "execution_count": null,
      "outputs": [
        {
          "output_type": "stream",
          "name": "stdout",
          "text": [
            "+---+----+---------+------------------+-------------+-----------+-----------+--------------+-----------+----------------------+-----------+-----------+-----------+-----------+----------+----------+-----------------+----------+--------------+----------+----------+--------------+--------------+--------------+--------------+--------------+----------+------------+-------+------------------+\n",
            "|_c0|  ID|Ano_nasci|      Escolaridade|    Est_civil|Renda_famil|CriancaCasa|AdolecenteCasa|Dt_cadastro|IntervaloUltimaCompra |Gasto_vinho|Gasto_fruta|Gasto_carne|Gasto_peixe|Gasto_doce|Gasto_ouro|CompraComDesconto|CompraSite|CompraCatalogo|CompraLoja|VisitaSite|Oferta3aCompra|Oferta4aCompra|Oferta5aCompra|Oferta1aCompra|Oferta2aCompra|Reclamacao|CustoContato|Receita|OfertaUltimaCompra|\n",
            "+---+----+---------+------------------+-------------+-----------+-----------+--------------+-----------+----------------------+-----------+-----------+-----------+-----------+----------+----------+-----------------+----------+--------------+----------+----------+--------------+--------------+--------------+--------------+--------------+----------+------------+-------+------------------+\n",
            "|  0|5524|     1957|          Graduado|     Solteiro|    58138.0|          0|             0| 2012-09-04|                    58|        635|         88|        546|        172|        88|        88|                3|         8|            10|         4|         7|             0|             0|             0|             0|             0|         0|           3|     11|                 1|\n",
            "|  1|2174|     1954|          Graduado|     Solteiro|    46344.0|          1|             1| 2014-03-08|                    38|         11|          1|          6|          2|         1|         6|                2|         1|             1|         2|         5|             0|             0|             0|             0|             0|         0|           3|     11|                 0|\n",
            "|  2|4141|     1965|          Graduado|União estável|    71613.0|          0|             0| 2013-08-21|                    26|        426|         49|        127|        111|        21|        42|                1|         8|             2|        10|         4|             0|             0|             0|             0|             0|         0|           3|     11|                 0|\n",
            "|  3|6182|     1984|          Graduado|União estável|    26646.0|          1|             0| 2014-02-10|                    26|         11|          4|         20|         10|         3|         5|                2|         2|             0|         4|         6|             0|             0|             0|             0|             0|         0|           3|     11|                 0|\n",
            "|  4|5324|     1981|               PhD|       Casado|    58293.0|          1|             0| 2014-01-19|                    94|        173|         43|        118|         46|        27|        15|                5|         5|             3|         6|         5|             0|             0|             0|             0|             0|         0|           3|     11|                 0|\n",
            "|  5|7446|     1967|            Mestre|União estável|    62513.0|          0|             1| 2013-09-09|                    16|        520|         42|         98|          0|        42|        14|                2|         6|             4|        10|         6|             0|             0|             0|             0|             0|         0|           3|     11|                 0|\n",
            "|  6| 965|     1971|          Graduado|   Divorciado|    55635.0|          0|             1| 2012-11-13|                    34|        235|         65|        164|         50|        49|        27|                4|         7|             3|         7|         6|             0|             0|             0|             0|             0|         0|           3|     11|                 0|\n",
            "|  7|6177|     1985|               PhD|       Casado|    33454.0|          1|             0| 2013-05-08|                    32|         76|         10|         56|          3|         1|        23|                2|         4|             0|         4|         8|             0|             0|             0|             0|             0|         0|           3|     11|                 0|\n",
            "|  8|4855|     1974|               PhD|União estável|    30351.0|          1|             0| 2013-06-06|                    19|         14|          0|         24|          3|         3|         2|                1|         3|             0|         2|         9|             0|             0|             0|             0|             0|         0|           3|     11|                 1|\n",
            "|  9|5899|     1950|               PhD|União estável|     5648.0|          1|             1| 2014-03-13|                    68|         28|          0|          6|          1|         1|        13|                1|         1|             0|         0|        20|             1|             0|             0|             0|             0|         0|           3|     11|                 0|\n",
            "| 10|1994|     1983|          Graduado|       Casado|        0.0|          1|             0| 2013-11-15|                    11|          5|          5|          6|          0|         2|         1|                1|         1|             0|         2|         7|             0|             0|             0|             0|             0|         0|           3|     11|                 0|\n",
            "| 11| 387|     1976|    EducacaoBasica|       Casado|     7500.0|          0|             0| 2012-11-13|                    59|          6|         16|         11|         11|         1|        16|                1|         2|             0|         3|         8|             0|             0|             0|             0|             0|         0|           3|     11|                 0|\n",
            "| 12|2125|     1959|          Graduado|   Divorciado|    63033.0|          0|             0| 2013-11-15|                    82|        194|         61|        480|        225|       112|        30|                1|         3|             4|         8|         2|             0|             0|             0|             0|             0|         0|           3|     11|                 0|\n",
            "| 13|8180|     1952|            Mestre|   Divorciado|    59354.0|          1|             1| 2013-11-15|                    53|        233|          2|         53|          3|         5|        14|                3|         6|             1|         5|         6|             0|             0|             0|             0|             0|         0|           3|     11|                 0|\n",
            "| 14|2569|     1987|          Graduado|       Casado|    17323.0|          0|             0| 2012-10-10|                    38|          3|         14|         17|          6|         1|         5|                1|         1|             0|         3|         8|             0|             0|             0|             0|             0|         0|           3|     11|                 0|\n",
            "| 15|2114|     1946|               PhD|     Solteiro|    82800.0|          0|             0| 2012-11-24|                    23|       1006|         22|        115|         59|        68|        45|                1|         7|             6|        12|         3|             0|             0|             1|             1|             0|         0|           3|     11|                 1|\n",
            "| 16|9736|     1980|          Graduado|       Casado|    41850.0|          1|             1| 2012-12-24|                    51|         53|          5|         19|          2|        13|         4|                3|         3|             0|         3|         8|             0|             0|             0|             0|             0|         0|           3|     11|                 0|\n",
            "| 17|4939|     1946|          Graduado|União estável|    37760.0|          0|             0| 2012-08-31|                    20|         84|          5|         38|        150|        12|        28|                2|         4|             1|         6|         7|             0|             0|             0|             0|             0|         0|           3|     11|                 0|\n",
            "| 18|6565|     1949|            Mestre|       Casado|    76995.0|          0|             1| 2013-03-28|                    91|       1012|         80|        498|          0|        16|       176|                2|        11|             4|         9|         5|             0|             0|             0|             1|             0|         0|           3|     11|                 0|\n",
            "| 19|2278|     1985|Pos_GraduadoMestre|     Solteiro|    33812.0|          1|             0| 2012-11-03|                    86|          4|         17|         19|         30|        24|        39|                2|         2|             1|         3|         6|             0|             0|             0|             0|             0|         0|           3|     11|                 0|\n",
            "+---+----+---------+------------------+-------------+-----------+-----------+--------------+-----------+----------------------+-----------+-----------+-----------+-----------+----------+----------+-----------------+----------+--------------+----------+----------+--------------+--------------+--------------+--------------+--------------+----------+------------+-------+------------------+\n",
            "only showing top 20 rows\n",
            "\n"
          ]
        }
      ]
    },
    {
      "cell_type": "markdown",
      "source": [
        "# **Distinct**"
      ],
      "metadata": {
        "id": "KpXz90klcv6D"
      }
    },
    {
      "cell_type": "markdown",
      "source": [
        "## Verificando valores distintos colunas"
      ],
      "metadata": {
        "id": "22X6FcN5ewnj"
      }
    },
    {
      "cell_type": "code",
      "source": [
        "df_spark.select('Dt_cadastro').distinct().show(670)"
      ],
      "metadata": {
        "id": "rexx9tAkbmmZ"
      },
      "execution_count": null,
      "outputs": []
    },
    {
      "cell_type": "code",
      "source": [
        "df_spark.select('Renda_famil').distinct().count()"
      ],
      "metadata": {
        "colab": {
          "base_uri": "https://localhost:8080/"
        },
        "id": "m7zuAniqHIO-",
        "outputId": "d7b76b41-b547-4ad2-bb34-0916241e98df"
      },
      "execution_count": null,
      "outputs": [
        {
          "output_type": "execute_result",
          "data": {
            "text/plain": [
              "1975"
            ]
          },
          "metadata": {},
          "execution_count": 19
        }
      ]
    },
    {
      "cell_type": "code",
      "source": [
        "df_spark.select('Est_civil').distinct().show()"
      ],
      "metadata": {
        "colab": {
          "base_uri": "https://localhost:8080/"
        },
        "id": "wTm7KIdQHIOB",
        "outputId": "b391fc3a-5ddf-4390-d095-e7efc2a9841b"
      },
      "execution_count": null,
      "outputs": [
        {
          "output_type": "stream",
          "name": "stdout",
          "text": [
            "+-------------+\n",
            "|    Est_civil|\n",
            "+-------------+\n",
            "|        Viúvo|\n",
            "|   Divorciado|\n",
            "|União estável|\n",
            "|     Solteiro|\n",
            "|       Casado|\n",
            "+-------------+\n",
            "\n"
          ]
        }
      ]
    },
    {
      "cell_type": "code",
      "source": [
        "df_spark.select('Escolaridade').distinct().show()"
      ],
      "metadata": {
        "colab": {
          "base_uri": "https://localhost:8080/"
        },
        "id": "3lUVp2iSWdnn",
        "outputId": "53627e09-3f55-4c20-c5f1-b44d557b0353"
      },
      "execution_count": null,
      "outputs": [
        {
          "output_type": "stream",
          "name": "stdout",
          "text": [
            "+------------------+\n",
            "|      Escolaridade|\n",
            "+------------------+\n",
            "|    EducacaoBasica|\n",
            "|               PhD|\n",
            "|            Mestre|\n",
            "|Pos_GraduadoMestre|\n",
            "|          Graduado|\n",
            "+------------------+\n",
            "\n"
          ]
        }
      ]
    },
    {
      "cell_type": "code",
      "source": [
        "df_spark.select('Oferta3aCompra').distinct().show()"
      ],
      "metadata": {
        "colab": {
          "base_uri": "https://localhost:8080/"
        },
        "id": "8w7JG3J3YquA",
        "outputId": "b8d4915d-d67a-471b-fe2e-bfe122e18e77"
      },
      "execution_count": null,
      "outputs": [
        {
          "output_type": "stream",
          "name": "stdout",
          "text": [
            "+--------------+\n",
            "|Oferta3aCompra|\n",
            "+--------------+\n",
            "|             1|\n",
            "|             0|\n",
            "+--------------+\n",
            "\n"
          ]
        }
      ]
    },
    {
      "cell_type": "code",
      "source": [
        "df_spark.select('Oferta4aCompra').distinct().show()"
      ],
      "metadata": {
        "colab": {
          "base_uri": "https://localhost:8080/"
        },
        "id": "gmg-OXmwZGti",
        "outputId": "06a88059-f602-451b-8b66-9c1d5b6ea267"
      },
      "execution_count": null,
      "outputs": [
        {
          "output_type": "stream",
          "name": "stdout",
          "text": [
            "+--------------+\n",
            "|Oferta4aCompra|\n",
            "+--------------+\n",
            "|             1|\n",
            "|             0|\n",
            "+--------------+\n",
            "\n"
          ]
        }
      ]
    },
    {
      "cell_type": "code",
      "source": [
        "df_spark.select('Oferta5aCompra').distinct().show()"
      ],
      "metadata": {
        "colab": {
          "base_uri": "https://localhost:8080/"
        },
        "id": "snl-ctYJZODM",
        "outputId": "1107c960-8c89-44fd-d391-c3e4b2cd07a2"
      },
      "execution_count": null,
      "outputs": [
        {
          "output_type": "stream",
          "name": "stdout",
          "text": [
            "+--------------+\n",
            "|Oferta5aCompra|\n",
            "+--------------+\n",
            "|             1|\n",
            "|             0|\n",
            "+--------------+\n",
            "\n"
          ]
        }
      ]
    },
    {
      "cell_type": "code",
      "source": [
        "df_spark.select('Oferta2aCompra').distinct().show()"
      ],
      "metadata": {
        "colab": {
          "base_uri": "https://localhost:8080/"
        },
        "id": "CRqZgrAOZOCA",
        "outputId": "dbfd84e9-acb4-4c3f-8a58-c16fdd173a7d"
      },
      "execution_count": null,
      "outputs": [
        {
          "output_type": "stream",
          "name": "stdout",
          "text": [
            "+--------------+\n",
            "|Oferta2aCompra|\n",
            "+--------------+\n",
            "|             1|\n",
            "|             0|\n",
            "+--------------+\n",
            "\n"
          ]
        }
      ]
    },
    {
      "cell_type": "code",
      "source": [
        "df_spark.select('Oferta1aCompra').distinct().show()"
      ],
      "metadata": {
        "colab": {
          "base_uri": "https://localhost:8080/"
        },
        "id": "JbyyXwlGZc2Z",
        "outputId": "c5d4e215-7efb-4f00-8642-c24b7abe9782"
      },
      "execution_count": null,
      "outputs": [
        {
          "output_type": "stream",
          "name": "stdout",
          "text": [
            "+--------------+\n",
            "|Oferta1aCompra|\n",
            "+--------------+\n",
            "|             1|\n",
            "|             0|\n",
            "+--------------+\n",
            "\n"
          ]
        }
      ]
    },
    {
      "cell_type": "code",
      "source": [
        "df_spark.select('Reclamacao').distinct().show()"
      ],
      "metadata": {
        "colab": {
          "base_uri": "https://localhost:8080/"
        },
        "id": "z-d1PCpNaNF8",
        "outputId": "6896c390-954a-4b68-9ee7-465e36eca22e"
      },
      "execution_count": null,
      "outputs": [
        {
          "output_type": "stream",
          "name": "stdout",
          "text": [
            "+----------+\n",
            "|Reclamacao|\n",
            "+----------+\n",
            "|         1|\n",
            "|         0|\n",
            "+----------+\n",
            "\n"
          ]
        }
      ]
    },
    {
      "cell_type": "code",
      "source": [
        "df_spark.select('custocontato').distinct().show()"
      ],
      "metadata": {
        "colab": {
          "base_uri": "https://localhost:8080/"
        },
        "id": "dP6YCzpgaM58",
        "outputId": "37f36191-aca1-4f2c-95d7-4cf47b6f1050"
      },
      "execution_count": null,
      "outputs": [
        {
          "output_type": "stream",
          "name": "stdout",
          "text": [
            "+------------+\n",
            "|custocontato|\n",
            "+------------+\n",
            "|           3|\n",
            "+------------+\n",
            "\n"
          ]
        }
      ]
    },
    {
      "cell_type": "code",
      "source": [
        "df_spark.select('Receita').distinct().show()"
      ],
      "metadata": {
        "colab": {
          "base_uri": "https://localhost:8080/"
        },
        "id": "AqfuMYWxanJj",
        "outputId": "ccb859d2-c033-4065-9aae-7cc62a93075b"
      },
      "execution_count": null,
      "outputs": [
        {
          "output_type": "stream",
          "name": "stdout",
          "text": [
            "+-------+\n",
            "|Receita|\n",
            "+-------+\n",
            "|     11|\n",
            "+-------+\n",
            "\n"
          ]
        }
      ]
    },
    {
      "cell_type": "code",
      "source": [
        "df_spark.select('Compracomdesconto').distinct().show()"
      ],
      "metadata": {
        "colab": {
          "base_uri": "https://localhost:8080/"
        },
        "id": "Ak_djQSua998",
        "outputId": "1d4f8251-83de-40b4-cc90-3da956852feb"
      },
      "execution_count": null,
      "outputs": [
        {
          "output_type": "stream",
          "name": "stdout",
          "text": [
            "+-----------------+\n",
            "|Compracomdesconto|\n",
            "+-----------------+\n",
            "|               12|\n",
            "|                1|\n",
            "|               13|\n",
            "|                6|\n",
            "|                3|\n",
            "|                5|\n",
            "|               15|\n",
            "|                9|\n",
            "|                4|\n",
            "|                8|\n",
            "|                7|\n",
            "|               10|\n",
            "|               11|\n",
            "|                2|\n",
            "|                0|\n",
            "+-----------------+\n",
            "\n"
          ]
        }
      ]
    },
    {
      "cell_type": "code",
      "source": [
        "df_spark.select('Ofertaultimacompra').distinct().show()"
      ],
      "metadata": {
        "colab": {
          "base_uri": "https://localhost:8080/"
        },
        "id": "jlHI7x9fayP7",
        "outputId": "90e40991-fd4d-4896-f05c-3472e419e536"
      },
      "execution_count": null,
      "outputs": [
        {
          "output_type": "stream",
          "name": "stdout",
          "text": [
            "+------------------+\n",
            "|Ofertaultimacompra|\n",
            "+------------------+\n",
            "|                 1|\n",
            "|                 0|\n",
            "+------------------+\n",
            "\n"
          ]
        }
      ]
    },
    {
      "cell_type": "code",
      "source": [
        "df_spark.show(2)"
      ],
      "metadata": {
        "colab": {
          "base_uri": "https://localhost:8080/"
        },
        "id": "sd_DMOo5YsxV",
        "outputId": "65bfa261-6216-42a6-8069-729a514fed6b"
      },
      "execution_count": null,
      "outputs": [
        {
          "output_type": "stream",
          "name": "stdout",
          "text": [
            "+---+----+---------+------------+---------+-----------+-----------+--------------+-----------+----------------------+-----------+-----------+-----------+-----------+----------+----------+-----------------+----------+--------------+----------+----------+--------------+--------------+--------------+--------------+--------------+----------+------------+-------+------------------+\n",
            "|_c0|  ID|Ano_nasci|Escolaridade|Est_civil|Renda_famil|CriancaCasa|AdolecenteCasa|Dt_cadastro|IntervaloUltimaCompra |Gasto_vinho|Gasto_fruta|Gasto_carne|Gasto_peixe|Gasto_doce|Gasto_ouro|CompraComDesconto|CompraSite|CompraCatalogo|CompraLoja|VisitaSite|Oferta3aCompra|Oferta4aCompra|Oferta5aCompra|Oferta1aCompra|Oferta2aCompra|Reclamacao|CustoContato|Receita|OfertaUltimaCompra|\n",
            "+---+----+---------+------------+---------+-----------+-----------+--------------+-----------+----------------------+-----------+-----------+-----------+-----------+----------+----------+-----------------+----------+--------------+----------+----------+--------------+--------------+--------------+--------------+--------------+----------+------------+-------+------------------+\n",
            "|  0|5524|     1957|    Graduado| Solteiro|    58138.0|          0|             0| 2012-09-04|                    58|        635|         88|        546|        172|        88|        88|                3|         8|            10|         4|         7|             0|             0|             0|             0|             0|         0|           3|     11|                 1|\n",
            "|  1|2174|     1954|    Graduado| Solteiro|    46344.0|          1|             1| 2014-03-08|                    38|         11|          1|          6|          2|         1|         6|                2|         1|             1|         2|         5|             0|             0|             0|             0|             0|         0|           3|     11|                 0|\n",
            "+---+----+---------+------------+---------+-----------+-----------+--------------+-----------+----------------------+-----------+-----------+-----------+-----------+----------+----------+-----------------+----------+--------------+----------+----------+--------------+--------------+--------------+--------------+--------------+----------+------------+-------+------------------+\n",
            "only showing top 2 rows\n",
            "\n"
          ]
        }
      ]
    },
    {
      "cell_type": "markdown",
      "source": [
        "# **Filter**"
      ],
      "metadata": {
        "id": "itgCSA2DcgYk"
      }
    },
    {
      "cell_type": "markdown",
      "source": [
        "\n",
        "##Escolaridade & Est_civil & Renda_famil\n"
      ],
      "metadata": {
        "id": "Qcvv3XlzRK6A"
      }
    },
    {
      "cell_type": "markdown",
      "source": [
        "### Graduado == 11  capos vazios 0.7%\n",
        "* União estável == 1\n",
        "* Solteiro == 6\n",
        "* Casado == 4\n",
        "\n",
        "\n"
      ],
      "metadata": {
        "id": "LDXecwXMagIF"
      }
    },
    {
      "cell_type": "code",
      "source": [
        "df_spark.filter((F.col('Escolaridade')=='Graduado') & (F.col('Est_civil')=='União estável')&(F.col('Renda_famil')==0)).count()"
      ],
      "metadata": {
        "colab": {
          "base_uri": "https://localhost:8080/"
        },
        "id": "ExtCtDmURIZ6",
        "outputId": "4aff9354-3bac-457c-d233-63b5c32342a8"
      },
      "execution_count": null,
      "outputs": [
        {
          "output_type": "execute_result",
          "data": {
            "text/plain": [
              "1"
            ]
          },
          "metadata": {},
          "execution_count": 33
        }
      ]
    },
    {
      "cell_type": "code",
      "source": [
        "df_spark.filter((F.col('Escolaridade')=='Graduado') & (F.col('Est_civil')=='Solteiro')&(F.col('Renda_famil')==0)).count()"
      ],
      "metadata": {
        "colab": {
          "base_uri": "https://localhost:8080/"
        },
        "id": "XOZUrSs9RIYv",
        "outputId": "49549e9f-9eff-46a5-9be8-632edfaa0356"
      },
      "execution_count": null,
      "outputs": [
        {
          "output_type": "execute_result",
          "data": {
            "text/plain": [
              "6"
            ]
          },
          "metadata": {},
          "execution_count": 34
        }
      ]
    },
    {
      "cell_type": "code",
      "source": [
        " df_spark.filter((F.col('Escolaridade')=='Graduado') & (F.col('Est_civil')=='Casado')&(F.col('Renda_famil')==0)).count()"
      ],
      "metadata": {
        "colab": {
          "base_uri": "https://localhost:8080/"
        },
        "id": "0Px99J8RZmVU",
        "outputId": "ef830a2c-8467-4623-cfc3-b7b6e5193d17"
      },
      "execution_count": null,
      "outputs": [
        {
          "output_type": "execute_result",
          "data": {
            "text/plain": [
              "4"
            ]
          },
          "metadata": {},
          "execution_count": 35
        }
      ]
    },
    {
      "cell_type": "markdown",
      "source": [
        "### Graduando == 1406 total\n",
        "* União estavel == 286 \n",
        "* Solteiro == 254\n",
        "* Casado == 433"
      ],
      "metadata": {
        "id": "-8zacktGuIh8"
      }
    },
    {
      "cell_type": "code",
      "source": [
        "df_spark.filter((F.col('Escolaridade')=='Graduado') & (F.col('Est_civil')=='União estável')).count()"
      ],
      "metadata": {
        "colab": {
          "base_uri": "https://localhost:8080/"
        },
        "id": "ihpdiuFbt6WK",
        "outputId": "0ee285da-dbc5-4342-80d2-50c024c60933"
      },
      "execution_count": null,
      "outputs": [
        {
          "output_type": "execute_result",
          "data": {
            "text/plain": [
              "286"
            ]
          },
          "metadata": {},
          "execution_count": 36
        }
      ]
    },
    {
      "cell_type": "code",
      "source": [
        "df_spark.filter((F.col('Escolaridade')=='Graduado') & (F.col('Est_civil')=='Solteiro')).count()"
      ],
      "metadata": {
        "colab": {
          "base_uri": "https://localhost:8080/"
        },
        "id": "mxA7eGJkt6VT",
        "outputId": "01d1bdc5-39fc-4def-9054-ebba478589ba"
      },
      "execution_count": null,
      "outputs": [
        {
          "output_type": "execute_result",
          "data": {
            "text/plain": [
              "254"
            ]
          },
          "metadata": {},
          "execution_count": 37
        }
      ]
    },
    {
      "cell_type": "code",
      "source": [
        " df_spark.filter((F.col('Escolaridade')=='Graduado') & (F.col('Est_civil')=='Casado')).count()"
      ],
      "metadata": {
        "colab": {
          "base_uri": "https://localhost:8080/"
        },
        "id": "SZmEWGqEt6Uf",
        "outputId": "98b05512-54b9-47ef-e569-5e87ecef3326"
      },
      "execution_count": null,
      "outputs": [
        {
          "output_type": "execute_result",
          "data": {
            "text/plain": [
              "433"
            ]
          },
          "metadata": {},
          "execution_count": 38
        }
      ]
    },
    {
      "cell_type": "markdown",
      "source": [
        "### Pós_GraduadoMestre == 3 campos vazios 1.7%\n",
        "* Casado ==1\n",
        "* Solteiro ==1\n",
        "* União estavel == 1\n"
      ],
      "metadata": {
        "id": "AqgMX2KhODZJ"
      }
    },
    {
      "cell_type": "code",
      "source": [
        " df_spark.filter((F.col('Escolaridade')=='Pos_GraduadoMestre') & (F.col('Est_civil')=='Casado')&(F.col('Renda_famil')==0)).count()"
      ],
      "metadata": {
        "colab": {
          "base_uri": "https://localhost:8080/"
        },
        "id": "ej2qa8t4HH7r",
        "outputId": "49286b74-9690-4b84-e37d-c9d1c717e8db"
      },
      "execution_count": null,
      "outputs": [
        {
          "output_type": "execute_result",
          "data": {
            "text/plain": [
              "1"
            ]
          },
          "metadata": {},
          "execution_count": 39
        }
      ]
    },
    {
      "cell_type": "code",
      "source": [
        " df_spark.filter((F.col('Escolaridade')=='Pos_GraduadoMestre') & (F.col('Est_civil')=='Solteiro')&(F.col('Renda_famil')==0)).count()"
      ],
      "metadata": {
        "colab": {
          "base_uri": "https://localhost:8080/"
        },
        "id": "6Zc0xxqcbyKD",
        "outputId": "7235c8af-3f6e-449a-ffba-1266e9134ccc"
      },
      "execution_count": null,
      "outputs": [
        {
          "output_type": "execute_result",
          "data": {
            "text/plain": [
              "1"
            ]
          },
          "metadata": {},
          "execution_count": 40
        }
      ]
    },
    {
      "cell_type": "code",
      "source": [
        " df_spark.filter((F.col('Escolaridade')=='Pos_GraduadoMestre') & (F.col('Est_civil')=='União estável')&(F.col('Renda_famil')==0)).count()"
      ],
      "metadata": {
        "colab": {
          "base_uri": "https://localhost:8080/"
        },
        "id": "owKzTM22cWkq",
        "outputId": "2292e1d9-3a01-4426-f648-0ff351a1dde0"
      },
      "execution_count": null,
      "outputs": [
        {
          "output_type": "execute_result",
          "data": {
            "text/plain": [
              "1"
            ]
          },
          "metadata": {},
          "execution_count": 41
        }
      ]
    },
    {
      "cell_type": "markdown",
      "source": [
        "### Pós_GraduadoMestre == 175 total\n",
        "* Casado ==  81\n",
        "* Solteiro == 37\n",
        "* União estavel == 57\n",
        "\n"
      ],
      "metadata": {
        "id": "OMCue5m0wBlv"
      }
    },
    {
      "cell_type": "code",
      "source": [
        " df_spark.filter((F.col('Escolaridade')=='Pos_GraduadoMestre') & (F.col('Est_civil')=='Casado')).count()"
      ],
      "metadata": {
        "colab": {
          "base_uri": "https://localhost:8080/"
        },
        "id": "dXYkrD6Dksk5",
        "outputId": "bc7729a6-969c-4dee-fce1-773ccd8cfbe8"
      },
      "execution_count": null,
      "outputs": [
        {
          "output_type": "execute_result",
          "data": {
            "text/plain": [
              "81"
            ]
          },
          "metadata": {},
          "execution_count": 42
        }
      ]
    },
    {
      "cell_type": "code",
      "source": [
        " df_spark.filter((F.col('Escolaridade')=='Pos_GraduadoMestre') & (F.col('Est_civil')=='Solteiro')).count()"
      ],
      "metadata": {
        "colab": {
          "base_uri": "https://localhost:8080/"
        },
        "id": "mK4v4Et0v-5i",
        "outputId": "d6d3f50b-5baa-48fa-9630-d235661bbf85"
      },
      "execution_count": null,
      "outputs": [
        {
          "output_type": "execute_result",
          "data": {
            "text/plain": [
              "37"
            ]
          },
          "metadata": {},
          "execution_count": 43
        }
      ]
    },
    {
      "cell_type": "code",
      "source": [
        " df_spark.filter((F.col('Escolaridade')=='Pos_GraduadoMestre') & (F.col('Est_civil')=='União estável')).count()"
      ],
      "metadata": {
        "colab": {
          "base_uri": "https://localhost:8080/"
        },
        "id": "YRq1Fybew9Q-",
        "outputId": "ddb8b8f3-89ed-495d-8fce-209d5d17cc2a"
      },
      "execution_count": null,
      "outputs": [
        {
          "output_type": "execute_result",
          "data": {
            "text/plain": [
              "57"
            ]
          },
          "metadata": {},
          "execution_count": 44
        }
      ]
    },
    {
      "cell_type": "markdown",
      "source": [
        "### Mestre == 5 campo vazio  4.2%\n",
        "* Viúvo==1\n",
        "* União estável == 4\n",
        "\n"
      ],
      "metadata": {
        "id": "PawVGzUKc9RD"
      }
    },
    {
      "cell_type": "code",
      "source": [
        " df_spark.filter((F.col('Escolaridade')=='Mestre') & (F.col('Est_civil')=='Viúvo')&(F.col('Renda_famil')==0)).count()"
      ],
      "metadata": {
        "colab": {
          "base_uri": "https://localhost:8080/"
        },
        "id": "oPZLzGSvcmqG",
        "outputId": "0de4c31c-e274-45da-b64d-60a3bc78ce71"
      },
      "execution_count": null,
      "outputs": [
        {
          "output_type": "execute_result",
          "data": {
            "text/plain": [
              "1"
            ]
          },
          "metadata": {},
          "execution_count": 45
        }
      ]
    },
    {
      "cell_type": "code",
      "source": [
        " df_spark.filter((F.col('Escolaridade')=='Mestre') & (F.col('Est_civil')=='União estável')&(F.col('Renda_famil')==0)).count()"
      ],
      "metadata": {
        "colab": {
          "base_uri": "https://localhost:8080/"
        },
        "id": "r3nzLgtScmpH",
        "outputId": "3631eb4f-114a-46e0-e767-0fbb6b4a7d0c"
      },
      "execution_count": null,
      "outputs": [
        {
          "output_type": "execute_result",
          "data": {
            "text/plain": [
              "4"
            ]
          },
          "metadata": {},
          "execution_count": 46
        }
      ]
    },
    {
      "cell_type": "markdown",
      "source": [
        "### Mestre == 118 total\n",
        "* Viúvo==12\n",
        "* União estável == 106\n",
        "\n"
      ],
      "metadata": {
        "id": "5jvZ78QzxX8z"
      }
    },
    {
      "cell_type": "code",
      "source": [
        " df_spark.filter((F.col('Escolaridade')=='Mestre') & (F.col('Est_civil')=='Viúvo')).count()"
      ],
      "metadata": {
        "colab": {
          "base_uri": "https://localhost:8080/"
        },
        "id": "PARBWx5zxlTE",
        "outputId": "4b9d804c-d092-4b31-e280-8a20abe82eac"
      },
      "execution_count": null,
      "outputs": [
        {
          "output_type": "execute_result",
          "data": {
            "text/plain": [
              "12"
            ]
          },
          "metadata": {},
          "execution_count": 47
        }
      ]
    },
    {
      "cell_type": "code",
      "source": [
        " df_spark.filter((F.col('Escolaridade')=='Mestre') & (F.col('Est_civil')=='União estável')).count()"
      ],
      "metadata": {
        "colab": {
          "base_uri": "https://localhost:8080/"
        },
        "id": "ZoBzEt7txtLd",
        "outputId": "a206e29e-592a-4b4a-8000-54e7e0e72f4c"
      },
      "execution_count": null,
      "outputs": [
        {
          "output_type": "execute_result",
          "data": {
            "text/plain": [
              "106"
            ]
          },
          "metadata": {},
          "execution_count": 48
        }
      ]
    },
    {
      "cell_type": "code",
      "source": [
        ""
      ],
      "metadata": {
        "id": "-Y8NfXjlxtJs"
      },
      "execution_count": null,
      "outputs": []
    },
    {
      "cell_type": "markdown",
      "source": [
        "### PhD == 5 total 1.2%\n",
        "* União estável == 1\n",
        "* Solteiro == 2\n",
        "* Casado == 2\n"
      ],
      "metadata": {
        "id": "WCHpvTfbgaCg"
      }
    },
    {
      "cell_type": "code",
      "source": [
        " df_spark.filter((F.col('Escolaridade')=='PhD') & (F.col('Est_civil')=='União estável')&(F.col('Renda_famil')==0)).count()"
      ],
      "metadata": {
        "colab": {
          "base_uri": "https://localhost:8080/"
        },
        "id": "LEVC5hK4hWcb",
        "outputId": "bb83a5f6-974e-40b0-cfc2-3a7d2bbc8262"
      },
      "execution_count": null,
      "outputs": [
        {
          "output_type": "execute_result",
          "data": {
            "text/plain": [
              "1"
            ]
          },
          "metadata": {},
          "execution_count": 49
        }
      ]
    },
    {
      "cell_type": "code",
      "source": [
        " df_spark.filter((F.col('Escolaridade')=='PhD') & (F.col('Est_civil')=='Solteiro')&(F.col('Renda_famil')==0)).count()"
      ],
      "metadata": {
        "colab": {
          "base_uri": "https://localhost:8080/"
        },
        "id": "aXXo4G6OhWbj",
        "outputId": "a27bf0cb-8c07-4176-adfa-1a0959d84c6c"
      },
      "execution_count": null,
      "outputs": [
        {
          "output_type": "execute_result",
          "data": {
            "text/plain": [
              "2"
            ]
          },
          "metadata": {},
          "execution_count": 50
        }
      ]
    },
    {
      "cell_type": "code",
      "source": [
        " df_spark.filter((F.col('Escolaridade')=='PhD') & (F.col('Est_civil')=='Casado')&(F.col('Renda_famil')==0)).count()"
      ],
      "metadata": {
        "colab": {
          "base_uri": "https://localhost:8080/"
        },
        "id": "vxEW2PAzhWaB",
        "outputId": "c19ad6b0-95f0-4367-bfb8-bda46202d791"
      },
      "execution_count": null,
      "outputs": [
        {
          "output_type": "execute_result",
          "data": {
            "text/plain": [
              "2"
            ]
          },
          "metadata": {},
          "execution_count": 51
        }
      ]
    },
    {
      "cell_type": "markdown",
      "source": [
        "### PhD == 410 total\n",
        "* União estável == 117\n",
        "* Solteiro == 101\n",
        "* Casado == 192\n",
        "\n",
        "\n",
        "\n"
      ],
      "metadata": {
        "id": "ZZgk2bGVyGME"
      }
    },
    {
      "cell_type": "code",
      "source": [
        " df_spark.filter((F.col('Escolaridade')=='PhD') & (F.col('Est_civil')=='União estável')).count()"
      ],
      "metadata": {
        "colab": {
          "base_uri": "https://localhost:8080/"
        },
        "id": "ecCF708dyIw1",
        "outputId": "e9d55916-d9f2-4a0b-d81d-66abe451d348"
      },
      "execution_count": null,
      "outputs": [
        {
          "output_type": "execute_result",
          "data": {
            "text/plain": [
              "117"
            ]
          },
          "metadata": {},
          "execution_count": 52
        }
      ]
    },
    {
      "cell_type": "code",
      "source": [
        " df_spark.filter((F.col('Escolaridade')=='PhD') & (F.col('Est_civil')=='Solteiro')).count()"
      ],
      "metadata": {
        "colab": {
          "base_uri": "https://localhost:8080/"
        },
        "id": "COL5uXwZyPA6",
        "outputId": "a815840a-a561-408d-c561-fd04741a1076"
      },
      "execution_count": null,
      "outputs": [
        {
          "output_type": "execute_result",
          "data": {
            "text/plain": [
              "101"
            ]
          },
          "metadata": {},
          "execution_count": 53
        }
      ]
    },
    {
      "cell_type": "code",
      "source": [
        " df_spark.filter((F.col('Escolaridade')=='PhD') & (F.col('Est_civil')=='Casado')).count()"
      ],
      "metadata": {
        "colab": {
          "base_uri": "https://localhost:8080/"
        },
        "id": "5W0fD5sayXLb",
        "outputId": "1665ff5f-2506-41f1-d46a-428396b7faa3"
      },
      "execution_count": null,
      "outputs": [
        {
          "output_type": "execute_result",
          "data": {
            "text/plain": [
              "192"
            ]
          },
          "metadata": {},
          "execution_count": 54
        }
      ]
    },
    {
      "cell_type": "markdown",
      "source": [
        "## filtro para contagem de valores \n",
        "* Oferta3aCompra 1 == 7.3%\n",
        "* Oferta4aCompra 1 == 7.4%\n",
        "* Oferta5aCompra 1 == 7.3%\n",
        "* Oferta1aCompra 1 == 6.4%\n",
        "* Oferta2aCompra 1 == 7.3%"
      ],
      "metadata": {
        "id": "Hi_pMud7dOy-"
      }
    },
    {
      "cell_type": "code",
      "source": [
        " df_spark.filter(F.col('Oferta3aCompra')==1).count()"
      ],
      "metadata": {
        "colab": {
          "base_uri": "https://localhost:8080/"
        },
        "id": "Cp1rYyVCdupb",
        "outputId": "30b9960a-d9dc-4d76-9a22-4be519d1b09a"
      },
      "execution_count": null,
      "outputs": [
        {
          "output_type": "execute_result",
          "data": {
            "text/plain": [
              "163"
            ]
          },
          "metadata": {},
          "execution_count": 55
        }
      ]
    },
    {
      "cell_type": "code",
      "source": [
        " df_spark.filter(F.col('Oferta4aCompra')==1).count()"
      ],
      "metadata": {
        "colab": {
          "base_uri": "https://localhost:8080/"
        },
        "id": "iAwhldEXfHXN",
        "outputId": "adedea6b-9b12-4748-da17-0c70ff5d386c"
      },
      "execution_count": null,
      "outputs": [
        {
          "output_type": "execute_result",
          "data": {
            "text/plain": [
              "167"
            ]
          },
          "metadata": {},
          "execution_count": 56
        }
      ]
    },
    {
      "cell_type": "code",
      "source": [
        " df_spark.filter(F.col('Oferta5aCompra')==1).count()"
      ],
      "metadata": {
        "colab": {
          "base_uri": "https://localhost:8080/"
        },
        "id": "iH_m_g0ffN4g",
        "outputId": "315c61c1-b211-4064-f08e-2cfe96cc0aec"
      },
      "execution_count": null,
      "outputs": [
        {
          "output_type": "execute_result",
          "data": {
            "text/plain": [
              "163"
            ]
          },
          "metadata": {},
          "execution_count": 57
        }
      ]
    },
    {
      "cell_type": "code",
      "source": [
        " df_spark.filter(F.col('Oferta1aCompra')==1).count()"
      ],
      "metadata": {
        "colab": {
          "base_uri": "https://localhost:8080/"
        },
        "id": "U6ImvCN6fSJk",
        "outputId": "5e3740a4-5826-44b0-e585-1e7fffc79d43"
      },
      "execution_count": null,
      "outputs": [
        {
          "output_type": "execute_result",
          "data": {
            "text/plain": [
              "144"
            ]
          },
          "metadata": {},
          "execution_count": 58
        }
      ]
    },
    {
      "cell_type": "code",
      "source": [
        " df_spark.filter(F.col('Oferta3aCompra')==1).count()"
      ],
      "metadata": {
        "colab": {
          "base_uri": "https://localhost:8080/"
        },
        "id": "XKWDeHcafdKL",
        "outputId": "cce962d1-65e1-4721-e128-cb1d0c77d7fa"
      },
      "execution_count": null,
      "outputs": [
        {
          "output_type": "execute_result",
          "data": {
            "text/plain": [
              "163"
            ]
          },
          "metadata": {},
          "execution_count": 59
        }
      ]
    },
    {
      "cell_type": "code",
      "source": [
        " df_spark.filter(F.col('OfertaUltimaCompra')==1).count()"
      ],
      "metadata": {
        "colab": {
          "base_uri": "https://localhost:8080/"
        },
        "id": "frUwAaUggi7G",
        "outputId": "fb4d05ab-1b95-43fd-fb8a-96e2e14d06ed"
      },
      "execution_count": null,
      "outputs": [
        {
          "output_type": "execute_result",
          "data": {
            "text/plain": [
              "334"
            ]
          },
          "metadata": {},
          "execution_count": 60
        }
      ]
    },
    {
      "cell_type": "code",
      "source": [
        " df_spark.filter(F.col('Custocontato')==3).count()"
      ],
      "metadata": {
        "colab": {
          "base_uri": "https://localhost:8080/"
        },
        "id": "Zdf_xHU9hMUA",
        "outputId": "0dfd0cf2-77cd-40fe-8465-49e1e084cab9"
      },
      "execution_count": null,
      "outputs": [
        {
          "output_type": "execute_result",
          "data": {
            "text/plain": [
              "2240"
            ]
          },
          "metadata": {},
          "execution_count": 61
        }
      ]
    },
    {
      "cell_type": "code",
      "source": [
        "df_spark.show(2)"
      ],
      "metadata": {
        "colab": {
          "base_uri": "https://localhost:8080/"
        },
        "id": "4lKliUSXdhia",
        "outputId": "2a7a329b-cbb7-4f72-bce1-b0408ea2b0a1"
      },
      "execution_count": null,
      "outputs": [
        {
          "output_type": "stream",
          "name": "stdout",
          "text": [
            "+---+----+---------+------------+---------+-----------+-----------+--------------+-----------+----------------------+-----------+-----------+-----------+-----------+----------+----------+-----------------+----------+--------------+----------+----------+--------------+--------------+--------------+--------------+--------------+----------+------------+-------+------------------+\n",
            "|_c0|  ID|Ano_nasci|Escolaridade|Est_civil|Renda_famil|CriancaCasa|AdolecenteCasa|Dt_cadastro|IntervaloUltimaCompra |Gasto_vinho|Gasto_fruta|Gasto_carne|Gasto_peixe|Gasto_doce|Gasto_ouro|CompraComDesconto|CompraSite|CompraCatalogo|CompraLoja|VisitaSite|Oferta3aCompra|Oferta4aCompra|Oferta5aCompra|Oferta1aCompra|Oferta2aCompra|Reclamacao|CustoContato|Receita|OfertaUltimaCompra|\n",
            "+---+----+---------+------------+---------+-----------+-----------+--------------+-----------+----------------------+-----------+-----------+-----------+-----------+----------+----------+-----------------+----------+--------------+----------+----------+--------------+--------------+--------------+--------------+--------------+----------+------------+-------+------------------+\n",
            "|  0|5524|     1957|    Graduado| Solteiro|    58138.0|          0|             0| 2012-09-04|                    58|        635|         88|        546|        172|        88|        88|                3|         8|            10|         4|         7|             0|             0|             0|             0|             0|         0|           3|     11|                 1|\n",
            "|  1|2174|     1954|    Graduado| Solteiro|    46344.0|          1|             1| 2014-03-08|                    38|         11|          1|          6|          2|         1|         6|                2|         1|             1|         2|         5|             0|             0|             0|             0|             0|         0|           3|     11|                 0|\n",
            "+---+----+---------+------------+---------+-----------+-----------+--------------+-----------+----------------------+-----------+-----------+-----------+-----------+----------+----------+-----------------+----------+--------------+----------+----------+--------------+--------------+--------------+--------------+--------------+----------+------------+-------+------------------+\n",
            "only showing top 2 rows\n",
            "\n"
          ]
        }
      ]
    },
    {
      "cell_type": "markdown",
      "source": [
        "#**Drop**"
      ],
      "metadata": {
        "id": "aSm5Kp1jc7nO"
      }
    },
    {
      "cell_type": "markdown",
      "source": [
        "## Drop de  linhas com valor vazio == 1%"
      ],
      "metadata": {
        "id": "DNjbMNOB3LBv"
      }
    },
    {
      "cell_type": "code",
      "source": [
        "df_spark.filter(F.col('Renda_famil')==0).count()"
      ],
      "metadata": {
        "colab": {
          "base_uri": "https://localhost:8080/"
        },
        "id": "XIGNXMfnZ4p9",
        "outputId": "6f527917-f44f-47f5-9647-fef20ce23e0c"
      },
      "execution_count": null,
      "outputs": [
        {
          "output_type": "execute_result",
          "data": {
            "text/plain": [
              "0"
            ]
          },
          "metadata": {},
          "execution_count": 67
        }
      ]
    },
    {
      "cell_type": "code",
      "source": [
        "df_spark = df_spark.filter(df_spark.Renda_famil != 0)"
      ],
      "metadata": {
        "id": "DkLkCPjd3KGz"
      },
      "execution_count": null,
      "outputs": []
    },
    {
      "cell_type": "markdown",
      "source": [
        "## Drop Coluna\n",
        "* CustoContato valor unico 3\n",
        "* Receita valor unico 11 "
      ],
      "metadata": {
        "id": "bxNuaKFeVykm"
      }
    },
    {
      "cell_type": "code",
      "source": [
        "df_spark = df_spark.drop(F.col('CustoContato'))"
      ],
      "metadata": {
        "id": "LJklRqa2Wpnu"
      },
      "execution_count": null,
      "outputs": []
    },
    {
      "cell_type": "code",
      "source": [
        "df_spark = df_spark.drop(F.col('Receita'))"
      ],
      "metadata": {
        "id": "xuZnz6wZnxSq"
      },
      "execution_count": null,
      "outputs": []
    },
    {
      "cell_type": "markdown",
      "source": [
        "# **withColumnRenamed** "
      ],
      "metadata": {
        "id": "kQIXKCloomkx"
      }
    },
    {
      "cell_type": "markdown",
      "source": [
        "## Colunas renomeadas\n",
        "* Ano_nasci = AnoNascimento\n",
        "* Est_civil = EstadoCivil\n",
        "* Renda_famil = RendaFamilia\n",
        "* Dt_cadastro = DataCadastro \n",
        "* CriancaCasa = FilhoCrianca\n",
        "* AdolecenteCasa = FilhoAdolecente"
      ],
      "metadata": {
        "id": "h7AVcCBhpbeS"
      }
    },
    {
      "cell_type": "code",
      "source": [
        "df_spark=(df_spark.withColumnRenamed(\"Ano_nasci\",\"AnoNascimento\")\n",
        "        .withColumnRenamed(\"Est_civil\",\"EstadoCivil\")\n",
        "        .withColumnRenamed(\"Renda_famil\",\"RendaFamilia\")\n",
        "        .withColumnRenamed(\"Dt_cadastro\",\"DataCadastro\")\n",
        "        .withColumnRenamed(\"CriancaCasa\",\"FilhoCrianca\")\n",
        "        .withColumnRenamed(\"AdolecenteCasa\",\"FilhoAdolecente\")\n",
        ")"
      ],
      "metadata": {
        "id": "SQKxDs5BqMWX"
      },
      "execution_count": null,
      "outputs": []
    },
    {
      "cell_type": "markdown",
      "source": [
        "# **Select e alias** \n",
        "Criação de colunas"
      ],
      "metadata": {
        "id": "YuZfBiD4ThkW"
      }
    },
    {
      "cell_type": "markdown",
      "source": [
        "\\## **Colunas Criadas**\n",
        "* TotalGasto\n",
        "* TotaldeCompra\n",
        "* TotalOferta"
      ],
      "metadata": {
        "id": "UJOz8Odp5Gv0"
      }
    },
    {
      "cell_type": "markdown",
      "source": [
        "### Colunas usadas\n",
        "* Gasto_vinho\n",
        "* Gasto_fruta\n",
        "* Gasto_carne\n",
        "* Gasto_peixe\n",
        "* Gasto_doce\n",
        "* Gasto_ouro"
      ],
      "metadata": {
        "id": "a4gpdiwD5w1t"
      }
    },
    {
      "cell_type": "code",
      "source": [
        "df_spark=df_spark.select('*',\n",
        "               (df_spark[\"Gasto_vinho\"]+\n",
        "                df_spark[\"Gasto_fruta\"]+\n",
        "                df_spark[\"Gasto_carne\"]+\n",
        "                df_spark[\"Gasto_peixe\"]+\n",
        "                df_spark[\"Gasto_doce\"]+\n",
        "                df_spark[\"Gasto_ouro\"])\n",
        "                .alias(\"TotalGasto\")\n",
        ")"
      ],
      "metadata": {
        "id": "ffWjKe4Z3lOL"
      },
      "execution_count": null,
      "outputs": []
    },
    {
      "cell_type": "markdown",
      "source": [
        "### Colunas usadas == TotaldeCompra\n",
        "* CompraSite\n",
        "* CompraCatalogo\n",
        "* CompraLoja"
      ],
      "metadata": {
        "id": "Rpvqbfdb6J60"
      }
    },
    {
      "cell_type": "code",
      "source": [
        "df_spark=df_spark.select('*',\n",
        "               (df_spark[\"CompraSite\"]+\n",
        "                df_spark[\"CompraCatalogo\"]+\n",
        "                df_spark[\"CompraLoja\"])\n",
        "                .alias(\"TotaldeCompra\")\n",
        ")"
      ],
      "metadata": {
        "id": "E7ykFS3XGk7D"
      },
      "execution_count": null,
      "outputs": []
    },
    {
      "cell_type": "markdown",
      "source": [
        "### Colunas usadas == TotalOferta\n",
        "* Oferta1aCompra\n",
        "* Oferta2aCompra\n",
        "* Oferta3aCompra\n",
        "* Oferta4aCompra\n",
        "* Oferta5aCompra"
      ],
      "metadata": {
        "id": "GnrGQ3Q_6WI9"
      }
    },
    {
      "cell_type": "code",
      "source": [
        "df_spark=df_spark.select('*',\n",
        "               (df_spark[\"Oferta1aCompra\"]+\n",
        "                df_spark[\"Oferta2aCompra\"]+\n",
        "                df_spark[\"Oferta3aCompra\"]+\n",
        "                df_spark[\"Oferta4aCompra\"]+\n",
        "                df_spark[\"Oferta5aCompra\"])\n",
        "                .alias(\"TotalOferta\")\n",
        ")"
      ],
      "metadata": {
        "id": "ZkXsDECp3Xnm"
      },
      "execution_count": null,
      "outputs": []
    },
    {
      "cell_type": "markdown",
      "source": [
        "# **OrderBy**\n",
        "* Colunas\n",
        "Escolaridade, EstadoCivil, DataCadastro"
      ],
      "metadata": {
        "id": "vNNVk2Z6BFxc"
      }
    },
    {
      "cell_type": "code",
      "source": [
        "df_spark.orderBy(F.col('Escolaridade'),F.col('EstadoCivil'),F.col('DataCadastro'))"
      ],
      "metadata": {
        "colab": {
          "base_uri": "https://localhost:8080/"
        },
        "id": "UHHL2tqKBKdQ",
        "outputId": "049cd8f9-ed6b-4c04-de56-83ff188f4bba"
      },
      "execution_count": null,
      "outputs": [
        {
          "output_type": "execute_result",
          "data": {
            "text/plain": [
              "DataFrame[_c0: int, ID: int, AnoNascimento: int, Escolaridade: string, EstadoCivil: string, RendaFamilia: double, FilhoCrianca: int, FilhoAdolecente: int, DataCadastro: string, IntervaloUltimaCompra : int, Gasto_vinho: int, Gasto_fruta: int, Gasto_carne: int, Gasto_peixe: int, Gasto_doce: int, Gasto_ouro: int, CompraComDesconto: int, CompraSite: int, CompraCatalogo: int, CompraLoja: int, VisitaSite: int, Oferta3aCompra: int, Oferta4aCompra: int, Oferta5aCompra: int, Oferta1aCompra: int, Oferta2aCompra: int, Reclamacao: int, OfertaUltimaCompra: int, TotalGasto: int, TotaldeCompra: int, TotalOferta: int]"
            ]
          },
          "metadata": {},
          "execution_count": 75
        }
      ]
    },
    {
      "cell_type": "markdown",
      "source": [
        "# Window Function\n"
      ],
      "metadata": {
        "id": "yEmBblYzG6o2"
      }
    },
    {
      "cell_type": "code",
      "source": [
        "df_window = df_spark.select('Escolaridade','EstadoCivil','RendaFamilia','TotaldeCompra','TotalGasto','TotalOferta')"
      ],
      "metadata": {
        "id": "r1XaARLN2zpk"
      },
      "execution_count": null,
      "outputs": []
    },
    {
      "cell_type": "code",
      "source": [
        "w0 = Window.partitionBy(F.col('TotaldeCompra')).orderBy('EstadoCivil')"
      ],
      "metadata": {
        "id": "qbQqaSig37u6"
      },
      "execution_count": null,
      "outputs": []
    },
    {
      "cell_type": "code",
      "source": [
        "w1 = Window.partitionBy(F.col('RendaFamilia')).orderBy('EstadoCivil')"
      ],
      "metadata": {
        "id": "4ZZ0kd9b8vlo"
      },
      "execution_count": null,
      "outputs": []
    },
    {
      "cell_type": "code",
      "source": [
        "df_window.withColumn('rankdeCompra', F.rank().over(w0)).show(2)"
      ],
      "metadata": {
        "colab": {
          "base_uri": "https://localhost:8080/"
        },
        "id": "Oz4cTlA8HCwv",
        "outputId": "303872ec-e19a-45f4-a262-e27cb7de9417"
      },
      "execution_count": null,
      "outputs": [
        {
          "output_type": "stream",
          "name": "stdout",
          "text": [
            "+------------+-----------+------------+-------------+----------+-----------+------------+\n",
            "|Escolaridade|EstadoCivil|RendaFamilia|TotaldeCompra|TotalGasto|TotalOferta|rankdeCompra|\n",
            "+------------+-----------+------------+-------------+----------+-----------+------------+\n",
            "+------------+-----------+------------+-------------+----------+-----------+------------+\n",
            "\n"
          ]
        }
      ]
    },
    {
      "cell_type": "code",
      "source": [
        "df_window.withColumn('percentualrank', F.percent_rank().over(w1)).show()   "
      ],
      "metadata": {
        "colab": {
          "base_uri": "https://localhost:8080/"
        },
        "id": "AcvgDoMM9Lnm",
        "outputId": "c1d01bab-3947-4e56-c2b4-d8ba249183e7"
      },
      "execution_count": null,
      "outputs": [
        {
          "output_type": "stream",
          "name": "stdout",
          "text": [
            "+------------+-----------+------------+-------------+----------+-----------+--------------+\n",
            "|Escolaridade|EstadoCivil|RendaFamilia|TotaldeCompra|TotalGasto|TotalOferta|percentualrank|\n",
            "+------------+-----------+------------+-------------+----------+-----------+--------------+\n",
            "+------------+-----------+------------+-------------+----------+-----------+--------------+\n",
            "\n"
          ]
        }
      ]
    },
    {
      "cell_type": "markdown",
      "source": [
        "# SQL"
      ],
      "metadata": {
        "id": "w4OfvK1V-8q-"
      }
    },
    {
      "cell_type": "markdown",
      "source": [
        " df_spark.filter((F.col('Escolaridade')=='PhD') & (F.col('Est_civil')=='União estável')&(F.col('Renda_famil')==0)).count()"
      ],
      "metadata": {
        "id": "EQCszDDiFOAU"
      }
    },
    {
      "cell_type": "code",
      "source": [
        ""
      ],
      "metadata": {
        "id": "Xi4Ug34JPO3X"
      },
      "execution_count": null,
      "outputs": []
    },
    {
      "cell_type": "code",
      "source": [
        "df_spark.select(F.col('FilhoCrianca'),F.col('FilhoAdolecente'),F.col('TotalGasto')).fillter(\"Escolaridade\").groupBy(\"TotalCompra\").show()"
      ],
      "metadata": {
        "id": "ju07-4BGCt0R"
      },
      "execution_count": null,
      "outputs": []
    },
    {
      "cell_type": "code",
      "source": [
        "df_spark.show(2)"
      ],
      "metadata": {
        "colab": {
          "base_uri": "https://localhost:8080/"
        },
        "id": "EuvjTL15_Iuk",
        "outputId": "356fc0e6-705b-4f87-cdc8-d1c1e9d99308"
      },
      "execution_count": null,
      "outputs": [
        {
          "output_type": "stream",
          "name": "stdout",
          "text": [
            "+-------------+------------+-----------+------------+------------+---------------+------------+---------------------+-----------+-----------+-----------+-----------+----------+----------+-----------------+----------+--------------+----------+----------+--------------+--------------+--------------+--------------+--------------+----------+------------------+----------+-------------+-----------+\n",
            "|AnoNascimento|Escolaridade|EstadoCivil|RendaFamilia|FilhoCrianca|FilhoAdolecente|DataCadastro|IntervaloUltimaCompra|Gasto_vinho|Gasto_fruta|Gasto_carne|Gasto_peixe|Gasto_doce|Gasto_ouro|CompraComDesconto|CompraSite|CompraCatalogo|CompraLoja|VisitaSite|Oferta3aCompra|Oferta4aCompra|Oferta5aCompra|Oferta1aCompra|Oferta2aCompra|Reclamacao|OfertaUltimaCompra|TotalGasto|TotaldeCompra|TotalOferta|\n",
            "+-------------+------------+-----------+------------+------------+---------------+------------+---------------------+-----------+-----------+-----------+-----------+----------+----------+-----------------+----------+--------------+----------+----------+--------------+--------------+--------------+--------------+--------------+----------+------------------+----------+-------------+-----------+\n",
            "+-------------+------------+-----------+------------+------------+---------------+------------+---------------------+-----------+-----------+-----------+-----------+----------+----------+-----------------+----------+--------------+----------+----------+--------------+--------------+--------------+--------------+--------------+----------+------------------+----------+-------------+-----------+\n",
            "\n"
          ]
        }
      ]
    },
    {
      "cell_type": "markdown",
      "source": [
        "# Conexão mongodb e gcp"
      ],
      "metadata": {
        "id": "gN2MkKbaq8lo"
      }
    },
    {
      "cell_type": "markdown",
      "source": [
        "## Conectando e inserindo no gcp"
      ],
      "metadata": {
        "id": "1mVQ2GUrH0mI"
      }
    },
    {
      "cell_type": "code",
      "source": [
        "df_spark.toPandas().to_csv('gs://dadosolo/dadostratados/dadostratados.csv', index=False)"
      ],
      "metadata": {
        "id": "wFHYIVRXC0-I"
      },
      "execution_count": null,
      "outputs": []
    },
    {
      "cell_type": "markdown",
      "source": [
        "## Conectando e inserindo no mongodb"
      ],
      "metadata": {
        "id": "aRNCdJ0IIbK-"
      }
    },
    {
      "cell_type": "code",
      "source": [
        "pttratado ='gs://dadosolo/dadostratados/dadostratados.csv'"
      ],
      "metadata": {
        "id": "d6FFJSeHMqBT"
      },
      "execution_count": null,
      "outputs": []
    },
    {
      "cell_type": "code",
      "source": [
        "dftratada = pd.read_csv(pttratado, sep=',')\n"
      ],
      "metadata": {
        "id": "V8YGmvnLLIS3"
      },
      "execution_count": null,
      "outputs": []
    },
    {
      "cell_type": "code",
      "source": [
        "db=cliente['newcadastro']\n",
        "ins=db.create_collection('newcolecao')"
      ],
      "metadata": {
        "id": "juWkcm7ZJ3n9"
      },
      "execution_count": null,
      "outputs": []
    },
    {
      "cell_type": "code",
      "source": [
        "df_dict=dftratada.to_dict('records')\n",
        "ins.insert_many(df_dict)"
      ],
      "metadata": {
        "colab": {
          "base_uri": "https://localhost:8080/"
        },
        "id": "n45KRHjhLnWk",
        "outputId": "1e396d34-50ee-4a9a-f17f-f183da86bfd9"
      },
      "execution_count": null,
      "outputs": [
        {
          "output_type": "execute_result",
          "data": {
            "text/plain": [
              "<pymongo.results.InsertManyResult at 0x7f84e88d8450>"
            ]
          },
          "metadata": {},
          "execution_count": 116
        }
      ]
    }
  ]
}